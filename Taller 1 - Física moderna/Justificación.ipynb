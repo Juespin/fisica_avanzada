{
  "nbformat": 4,
  "nbformat_minor": 0,
  "metadata": {
    "colab": {
      "private_outputs": true,
      "provenance": [],
      "collapsed_sections": [
        "Kn0Q3qVUMKVj",
        "WJ9wFVFQSwNE",
        "Cx-7CzBEpWX2",
        "b3OfoPlLJh0D"
      ]
    },
    "kernelspec": {
      "name": "python3",
      "display_name": "Python 3"
    },
    "language_info": {
      "name": "python"
    }
  },
  "cells": [
    {
      "cell_type": "code",
      "execution_count": null,
      "metadata": {
        "id": "b5xLNjTAkxSa"
      },
      "outputs": [],
      "source": [
        "import numpy as np\n",
        "import matplotlib.pyplot as plt\n",
        "from scipy.integrate import quad, simps"
      ]
    },
    {
      "cell_type": "code",
      "source": [
        "h = 6.62607015E-34 # en j/s\n",
        "c =  299792458 # en m/s\n",
        "kb = 1.380649E-23 # en eV/K\n",
        "stf = 5.670373E-8 #en W/m^2K^4\n",
        "Rh = 13.605686788860648 # en eV, extraido del punto 10\n",
        "\n",
        "def planck_int(temp,wave):\n",
        "  a = 2*h*np.pi*c**2\n",
        "  b = h*c/(wave*kb*T)\n",
        "  inten = a / ((wave**5) * (np.exp(b) - 1))\n",
        "  return inten\n",
        "\n",
        "def planck_den(temp,wave):\n",
        "  a = 8*h*np.pi*c\n",
        "  b = h*c/(wave*kb*T)\n",
        "  den = a / ((wave**5) * (np.exp(b) - 1))\n",
        "  return den\n",
        "\n",
        "def ray_jean_den(temp,wave):\n",
        "  a = 8*np.pi*kb*temp\n",
        "  den = a / wave**4\n",
        "  return den\n",
        "\n",
        "def niv_energ(n):\n",
        "  return (-Rh/n**2)"
      ],
      "metadata": {
        "id": "MoGYl-JCS08p"
      },
      "execution_count": null,
      "outputs": []
    },
    {
      "cell_type": "markdown",
      "source": [
        "## Punto 3"
      ],
      "metadata": {
        "id": "Kn0Q3qVUMKVj"
      }
    },
    {
      "cell_type": "code",
      "source": [
        "T = 1500\n",
        "wavelength = np.arange(1E-9,3E-3,1E-9)\n",
        "pl = planck_int(T,wavelength)\n",
        "\n",
        "plt.plot(wavelength*1E6,pl,color=\"black\")\n",
        "plt.xlabel(\"Longitud de onda [$\\mu$m]\")\n",
        "plt.ylabel(\"Intensidad\")\n",
        "plt.xlim(0.5,15)\n",
        "plt.grid()\n",
        "plt.show()\n",
        "\n",
        "potencia_total_pl = np.sum(pl[:-1] * np.diff(wavelength))\n",
        "potencia_total_stf_bl = stf * T**4\n",
        "\n",
        "print(f\"La potencia total según ley de planck = {potencia_total_pl}\")\n",
        "print(f\"Para la ley de steffan-boltzman = {potencia_total_stf_bl} \\n\")\n",
        "print(f\"Hay una diferencia de {(potencia_total_pl - potencia_total_stf_bl)*100/potencia_total_pl}%\")"
      ],
      "metadata": {
        "id": "a3sz5BYpnNld"
      },
      "execution_count": null,
      "outputs": []
    },
    {
      "cell_type": "code",
      "source": [
        "max = np.argmax(pl)\n",
        "plt.plot(wavelength*1E6,pl,color=\"black\")\n",
        "plt.plot(wavelength[max]*1E6, pl[max], \"ro\", label=f\"Punto máximo\")\n",
        "plt.xlabel(\"Longitud de onda [$\\mu$m]\")\n",
        "plt.ylabel(\"Intensidad\")\n",
        "plt.xlim(0.5,15)\n",
        "plt.grid()\n",
        "plt.legend()\n",
        "plt.show()\n",
        "\n",
        "print(f\"Intensidad máxima de {pl[max]} en {wavelength[max]}\")\n",
        "wien_b = 2.897771955E-3 # En m*k\n",
        "wien_wave = wien_b/T\n",
        "wien_max = planck_int(1500, wien_wave)\n",
        "print(f\"Según la ley de desplazamiento de Wien, la intensidad máxima es de {wien_max} en {wien_wave}\")\n",
        "print(f\"Hay una diferencia de {(wavelength[max]-wien_wave)*100/wavelength[max]}%\")"
      ],
      "metadata": {
        "id": "uJIEABDLM0kt"
      },
      "execution_count": null,
      "outputs": []
    },
    {
      "cell_type": "markdown",
      "source": [
        "## Punto 4"
      ],
      "metadata": {
        "id": "WJ9wFVFQSwNE"
      }
    },
    {
      "cell_type": "code",
      "source": [
        "T = 5778\n",
        "wavelength = np.arange(1E-9,3E-3,1E-9)\n",
        "pl = planck_int(T,wavelength)\n",
        "R = 6.96E8\n",
        "area = 4 * np.pi * (R**2)\n",
        "\n",
        "max = np.argmax(pl)\n",
        "\n",
        "plt.plot(wavelength*1E9,pl,color=\"black\")\n",
        "plt.plot(wavelength[max]*1E9, pl[max], \"ro\", label=\"Punto máximo $\\lambda= 501nm$\")\n",
        "plt.xlabel(\"Longitud de onda [nm]\")\n",
        "plt.ylabel(\"Intensidad espectral\")\n",
        "plt.xlim(0,3000)\n",
        "plt.grid()\n",
        "plt.legend()\n",
        "plt.show()\n",
        "\n",
        "pot_area = np.sum(pl[:-1] * np.diff(wavelength))\n",
        "p_total = pot_area * area\n",
        "print(pot_area)\n",
        "print(p_total)"
      ],
      "metadata": {
        "id": "WZzZ-uXTSyHF"
      },
      "execution_count": null,
      "outputs": []
    },
    {
      "cell_type": "markdown",
      "source": [
        "## Punto 5"
      ],
      "metadata": {
        "id": "Cx-7CzBEpWX2"
      }
    },
    {
      "cell_type": "code",
      "source": [
        "T = 10000\n",
        "wavelength = np.arange(1E-9,4E-3,1E-9)\n",
        "pl = planck_den(T, wavelength)\n",
        "rayjn = ray_jean_den(T, wavelength)\n",
        "\n",
        "plt.plot(wavelength*1E9, pl, color=\"black\", label=\"Ley de Planck\")\n",
        "plt.plot(wavelength*1E9, rayjn, color=\"red\", label=\"Ley de Rayleigh-Jeans\")\n",
        "plt.xlabel(\"Longitud de onda [nm]\")\n",
        "plt.ylabel(\"Densidad espectral\")\n",
        "plt.xlim(0,2.5E3)\n",
        "plt.ylim(0,1.75E7)\n",
        "plt.grid()\n",
        "plt.legend()\n",
        "plt.show()\n",
        "\n",
        "error = 100\n",
        "i = 0\n",
        "while True :\n",
        "  error = (rayjn[i]-pl[i])*100/rayjn[i]\n",
        "  if error > 5:\n",
        "    i += 1\n",
        "    pass\n",
        "  elif error <= 5:\n",
        "    break\n",
        "\n",
        "print(f\"Ambos modelos coninciden con un error menor de {error} a partir de una longitud de {wavelength[i]*1E6}micrometros\")\n",
        "plt.plot(wavelength*1E6, pl, color=\"black\", label=\"Ley de Planck\")\n",
        "plt.plot(wavelength*1E6, rayjn, color=\"red\", label=\"Ley de Rayleigh-Jeans\")\n",
        "plt.plot(wavelength[i]*1E6, rayjn[i], \"go\", label=f\"Punto de coincidencia ({round(wavelength[i]*1E6,2)}$\\mu$m)\")\n",
        "plt.xlabel(\"Longitud de onda [$\\mu$m]\")\n",
        "plt.ylabel(\"Densidad espectral\")\n",
        "plt.xlim(6,15)\n",
        "plt.ylim(0,3E3)\n",
        "plt.grid()\n",
        "plt.legend()\n",
        "plt.show()"
      ],
      "metadata": {
        "id": "ZJluxkompXz1"
      },
      "execution_count": null,
      "outputs": []
    },
    {
      "cell_type": "markdown",
      "source": [
        "## Punto 10"
      ],
      "metadata": {
        "id": "b3OfoPlLJh0D"
      }
    },
    {
      "cell_type": "code",
      "source": [
        "me = 9.10938291E-31\n",
        "e = 1.602176487E-19\n",
        "e0 = 8.854187817E-12\n",
        "h_bar_j = 1.054571817E-34 #en J*s\n",
        "\n",
        "Rh_j = (me*(e**4))/(2*(4*np.pi*e0)**2*(h_bar_j**2))\n",
        "Rh_ev = Rh_j*6.241509E18\n",
        "print(f\"El valor de la constante de Rydberg para el hidrógeno es de {Rh_j}J o {Rh_ev}eV\")"
      ],
      "metadata": {
        "id": "u9HVeVdeKZUM"
      },
      "execution_count": null,
      "outputs": []
    },
    {
      "cell_type": "markdown",
      "source": [
        "## Punto 11 y 12"
      ],
      "metadata": {
        "id": "mF98T3M2OBZL"
      }
    },
    {
      "cell_type": "code",
      "source": [
        "niv = np.arange(1,8,1)\n",
        "energ = niv_energ(niv)\n",
        "h = 4.135667696E-15 # en eVs\n",
        "print(f\"Los niveles de energía para cada nivel del Hidrógeno es: \")\n",
        "for i in niv:\n",
        "  print(f\"Nivel {i}: {energ[i-1]} eV\")\n",
        "\n",
        "print(f\"\\nPara pasar del nivel 2 al 3, se liberan {energ[1] - energ[2]}eV con una longitud de onda de {abs((h*c)/(energ[1] - energ[2]))}\")"
      ],
      "metadata": {
        "id": "9BrXybpIOFD8"
      },
      "execution_count": null,
      "outputs": []
    }
  ]
}